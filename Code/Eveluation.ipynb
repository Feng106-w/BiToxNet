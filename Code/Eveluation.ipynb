{
 "cells": [
  {
   "cell_type": "code",
   "execution_count": null,
   "id": "f63cc99a-358f-4396-a758-4036113cbd37",
   "metadata": {},
   "outputs": [],
   "source": [
    "def evaluate(model, data_loader, device, threshold):\n",
    "    model.eval()\n",
    "    total_loss = 0\n",
    "    correct = 0\n",
    "    all_preds = []\n",
    "    all_labels = []\n",
    "    \n",
    "    with torch.no_grad():\n",
    "        for trad, esm, labels in data_loader:\n",
    "            trad, esm = trad.to(device), esm.to(device)\n",
    "            labels = labels.to(device)\n",
    "            \n",
    "            outputs, _ = model(trad, esm)\n",
    "            loss = calc_loss(outputs, labels)\n",
    "            \n",
    "            probs = torch.softmax(outputs, dim=1)\n",
    "            preds = (probs[:, 1] > threshold).long()\n",
    "            \n",
    "            correct += (preds == labels).sum().item()\n",
    "            total_loss += loss.item() * trad.size(0)\n",
    "            \n",
    "            all_preds.extend(preds.cpu().numpy())\n",
    "            all_labels.extend(labels.cpu().numpy())\n",
    "    \n",
    "    avg_loss = total_loss / len(data_loader.dataset)\n",
    "    acc = 100. * correct / len(data_loader.dataset)\n",
    "    \n",
    "    tn, fp, fn, tp = metrics.confusion_matrix(all_labels, all_preds).ravel()\n",
    "    sen = tp / (tp + fn)  \n",
    "    spe = tn / (tn + fp)  \n",
    "    \n",
    "    f1 = metrics.f1_score(all_labels, all_preds)\n",
    "    mcc = metrics.matthews_corrcoef(all_labels, all_preds)\n",
    "    auc = metrics.roc_auc_score(all_labels, all_preds)\n",
    "    \n",
    "    return avg_loss, acc, sen, spe, f1, mcc, auc, all_preds, all_labels"
   ]
  }
 ],
 "metadata": {
  "kernelspec": {
   "display_name": "Python 3 (ipykernel)",
   "language": "python",
   "name": "python3"
  },
  "language_info": {
   "codemirror_mode": {
    "name": "ipython",
    "version": 3
   },
   "file_extension": ".py",
   "mimetype": "text/x-python",
   "name": "python",
   "nbconvert_exporter": "python",
   "pygments_lexer": "ipython3",
   "version": "3.12.3"
  }
 },
 "nbformat": 4,
 "nbformat_minor": 5
}
